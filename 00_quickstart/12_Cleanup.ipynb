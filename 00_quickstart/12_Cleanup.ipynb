{
 "cells": [
  {
   "cell_type": "markdown",
   "metadata": {},
   "source": [
    "# Cleanup Resources to Reduce Cost"
   ]
  },
  {
   "cell_type": "code",
   "execution_count": null,
   "metadata": {},
   "outputs": [],
   "source": [
    "from botocore.exceptions import ClientError\n",
    "\n",
    "import os\n",
    "import sagemaker\n",
    "import logging\n",
    "import boto3\n",
    "import sagemaker\n",
    "import pandas as pd\n",
    "\n",
    "sess = sagemaker.Session()\n",
    "bucket = sess.default_bucket()\n",
    "region = boto3.Session().region_name\n",
    "\n",
    "import botocore.config\n",
    "\n",
    "config = botocore.config.Config(\n",
    "    user_agent_extra='dsoaws/1.0'\n",
    ")\n",
    "\n",
    "sm = boto3.Session().client(service_name=\"sagemaker\", \n",
    "                            region_name=region,\n",
    "                            config=config)"
   ]
  },
  {
   "cell_type": "code",
   "execution_count": null,
   "metadata": {},
   "outputs": [],
   "source": [
    "%store -r role"
   ]
  },
  {
   "cell_type": "code",
   "execution_count": null,
   "metadata": {},
   "outputs": [],
   "source": [
    "store -r pipeline_endpoint_name"
   ]
  },
  {
   "cell_type": "code",
   "execution_count": null,
   "metadata": {},
   "outputs": [],
   "source": [
    "print(pipeline_endpoint_name)"
   ]
  },
  {
   "cell_type": "code",
   "execution_count": null,
   "metadata": {},
   "outputs": [],
   "source": [
    "sm.delete_endpoint(EndpointName=pipeline_endpoint_name)"
   ]
  },
  {
   "cell_type": "markdown",
   "metadata": {},
   "source": [
    "# Stop SageMaker Studio\n",
    "## _Note:  Please save/download your notebooks before you do this._\n",
    "\n",
    "![](img/sm-studio-shutdown.png)"
   ]
  },
  {
   "cell_type": "markdown",
   "metadata": {},
   "source": [
    "# Stop This SageMaker Studio Server\n",
    "## _Note:  Please save/download your notebooks before you do this._"
   ]
  },
  {
   "cell_type": "code",
   "execution_count": null,
   "metadata": {},
   "outputs": [],
   "source": [
    "# import json\n",
    "\n",
    "# notebook_instance_name = None\n",
    "\n",
    "# try:\n",
    "#     with open(\"/opt/ml/metadata/resource-metadata.json\") as notebook_info:\n",
    "#         data = json.load(notebook_info)\n",
    "#         print(data)\n",
    "#         domain_id = data[\"DomainId\"]\n",
    "#         user_profile_name = data[\"UserProfileName\"]        \n",
    "#         resource_arn = data[\"ResourceArn\"]\n",
    "#         region = resource_arn.split(\":\")[3]\n",
    "#         notebook_name = data[\"ResourceName\"]\n",
    "#     print(\"domain_id: {}\".format(domain_id))\n",
    "#     print(\"notebook_name: {}\".format(notebook_name))\n",
    "#     print(\"user_profile_name: {}\".format(user_profile_name))\n",
    "# except:\n",
    "#     print(\"+++++++++++++++++++++++++++++++++++++++++\")\n",
    "#     print(\"[ERROR]: COULD NOT RETRIEVE THE METADATA.\")\n",
    "#     print(\"+++++++++++++++++++++++++++++++++++++++++\")\n",
    "    \n",
    "# from pprint import pprint\n",
    "# apps_to_stop = sm.list_apps(DomainIdEquals=domain_id, UserProfileNameEquals=user_profile_name)\n",
    "# pprint(apps_to_stop['Apps'])\n",
    "\n",
    "# for app in apps_to_stop['Apps']:\n",
    "#     print('Deleting app {}...'.format(app))    \n",
    "#     sm.delete_app(DomainId=domain_id, \n",
    "#                   UserProfileName=user_profile_name, \n",
    "#                   AppType=app['AppType'], \n",
    "#                   AppName=app['AppName'])\n",
    "#     print('Deleted app {}...'.format(app))"
   ]
  }
 ],
 "metadata": {
  "instance_type": "ml.t3.medium",
  "kernelspec": {
   "display_name": "Python 3 (Data Science)",
   "language": "python",
   "name": "python3__SAGEMAKER_INTERNAL__arn:aws:sagemaker:us-east-1:081325390199:image/datascience-1.0"
  },
  "language_info": {
   "codemirror_mode": {
    "name": "ipython",
    "version": 3
   },
   "file_extension": ".py",
   "mimetype": "text/x-python",
   "name": "python",
   "nbconvert_exporter": "python",
   "pygments_lexer": "ipython3",
   "version": "3.7.10"
  }
 },
 "nbformat": 4,
 "nbformat_minor": 4
}
